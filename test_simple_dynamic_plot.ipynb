{
 "cells": [
  {
   "cell_type": "code",
   "execution_count": 7,
   "metadata": {},
   "outputs": [],
   "source": [
    "import ee\n",
    "import geefcc\n",
    "import os\n",
    "import rioxarray\n",
    "from cartopy import crs as ccrs\n",
    "import hvplot.xarray  # noqa"
   ]
  },
  {
   "cell_type": "code",
   "execution_count": 2,
   "metadata": {},
   "outputs": [],
   "source": [
    "ee.Initialize(project=\"forestatrisk\", opt_url=\"https://earthengine-highvolume.googleapis.com\")"
   ]
  },
  {
   "cell_type": "code",
   "execution_count": 5,
   "metadata": {},
   "outputs": [
    {
     "name": "stdout",
     "output_type": "stream",
     "text": [
      "get_fcc running, 3 tiles ...."
     ]
    }
   ],
   "source": [
    "if not os.path.isfile(\"out_tmf/forest_tmf.tif\"):\n",
    "    geefcc.get_fcc(\n",
    "        aoi=\"REU\",\n",
    "        years=[2000, 2010, 2020],\n",
    "        source=\"tmf\",\n",
    "        parallel=False,\n",
    "        crop_to_aoi=True,\n",
    "        tile_size=0.5,\n",
    "        output_file=\"out_tmf/forest_tmf.tif\",\n",
    "    )"
   ]
  },
  {
   "cell_type": "code",
   "execution_count": 22,
   "metadata": {},
   "outputs": [
    {
     "name": "stdout",
     "output_type": "stream",
     "text": [
      "get_fcc running, 3 tiles ...."
     ]
    }
   ],
   "source": [
    "if not os.path.isfile(\"out_gfc/forest_gfc.tif\"):\n",
    "    geefcc.get_fcc(\n",
    "        aoi=\"REU\",\n",
    "        years=[2000, 2010, 2020],\n",
    "        source=\"gfc\",\n",
    "        perc=50,\n",
    "        parallel=False,\n",
    "        crop_to_aoi=True,\n",
    "        tile_size=0.5,\n",
    "        output_file=\"out_gfc/forest_gfc.tif\",\n",
    "    )"
   ]
  },
  {
   "cell_type": "code",
   "execution_count": 10,
   "metadata": {},
   "outputs": [],
   "source": [
    "years = [2000, 2010, 2020]\n",
    "fcc = rioxarray.open_rasterio(\"out_tmf/forest_tmf.tif\").sum(dim=\"band\")"
   ]
  },
  {
   "cell_type": "code",
   "execution_count": 11,
   "metadata": {},
   "outputs": [
    {
     "data": {
      "application/vnd.jupyter.widget-view+json": {
       "model_id": "99479b412d714dc184da2444146a4a13",
       "version_major": 2,
       "version_minor": 0
      },
      "text/plain": [
       "BokehModel(combine_events=True, render_bundle={'docs_json': {'1ee2d567-0220-406b-9be5-0baa223c644b': {'version…"
      ]
     },
     "execution_count": 11,
     "metadata": {},
     "output_type": "execute_result"
    }
   ],
   "source": [
    "fcc.hvplot(x=\"x\",\n",
    "           y=\"y\",\n",
    "           #colorbar = False,\n",
    "           clim = (0, 3),\n",
    "           rasterize=True, # We apply rasterization using the datashader library\n",
    "           projection=ccrs.PlateCarree(), # We specify the projection of the data\n",
    "           crs=ccrs.PlateCarree(), # We specify the projection of the plot\n",
    "           project=True, # We project the data before plotting\n",
    "           geo = True, # We specify that the data is in geographic coordinates\n",
    "           aggregator=\"mean\", # Aggregator to use when applying rasterize or datashade operation\n",
    "           grid=True, # We show a grid\n",
    "           width=600, # width of the plot in pixels\n",
    "           height=600, # height of the plot in pixels\n",
    "           coastline = \"10m\", # Display a coastline on top of the plot\n",
    "           features = {'borders':'10m'}, # Display country borders on top of the plot\n",
    "           title = f\"Forest cover change {years[0]}-{years[1]}-{years[2]}, TMF\")"
   ]
  }
 ],
 "metadata": {
  "kernelspec": {
   "display_name": "deforisk",
   "language": "python",
   "name": "python3"
  },
  "language_info": {
   "codemirror_mode": {
    "name": "ipython",
    "version": 3
   },
   "file_extension": ".py",
   "mimetype": "text/x-python",
   "name": "python",
   "nbconvert_exporter": "python",
   "pygments_lexer": "ipython3",
   "version": "3.10.14"
  }
 },
 "nbformat": 4,
 "nbformat_minor": 2
}
